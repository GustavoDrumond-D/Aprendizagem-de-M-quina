{
 "cells": [
  {
   "cell_type": "code",
   "execution_count": 11,
   "metadata": {},
   "outputs": [
    {
     "name": "stdout",
     "output_type": "stream",
     "text": [
      "olá mundo\n",
      "Primeira aula de machine learning\n",
      "17\n",
      "-1\n",
      "72\n",
      "0.8888888888888888\n",
      "0\n",
      "8\n",
      "134217728\n",
      "29\n",
      "<class 'float'>\n",
      "<class 'int'>\n",
      "<class 'str'>\n"
     ]
    }
   ],
   "source": [
    "variavel_000 = 0;\n",
    "variavel_001 = 0.0;\n",
    "variavel_002 = True;\n",
    "variavel_003 = 'olá mundo';\n",
    "\n",
    "# print(type(variavel_000))\n",
    "\n",
    "nome = 'Pedro'\n",
    "sobrenome = 'Santos'\n",
    "nome_completo = ' '\n",
    "\n",
    "print(variavel_003);\n",
    "print('Primeira aula de machine learning');\n",
    "\n",
    "# print(type(variavel_000));\n",
    "# print(type(variavel_001));\n",
    "# print(type(variavel_002));\n",
    "# print(type(variavel_003));\n",
    "\n",
    "print(8 + 9);\n",
    "print(8 - 9);\n",
    "print(8 * 9);\n",
    "print(8 / 9);\n",
    "print(8 // 9);\n",
    "print(8 % 9);\n",
    "print(8 ** 9);\n",
    "\n",
    "\n",
    "v_00 = 2\n",
    "v_01 = 10\n",
    "v_02 = 12\n",
    "v_03 = 5\n",
    "\n",
    "print(v_00 + v_01 + v_02 + v_03)\n",
    "\n",
    "numero_01 = 0.0\n",
    "numero_02 = 12\n",
    "valor_01 =\"01\"\n",
    "\n",
    "print(type(numero_01))\n",
    "print(type(numero_02))\n",
    "print(type(valor_01))\n",
    "\n",
    "numero_01 =int(numero_01)\n",
    "numero_02 = float(numero_02)"
   ]
  }
 ],
 "metadata": {
  "kernelspec": {
   "display_name": "Python 3",
   "language": "python",
   "name": "python3"
  },
  "language_info": {
   "codemirror_mode": {
    "name": "ipython",
    "version": 3
   },
   "file_extension": ".py",
   "mimetype": "text/x-python",
   "name": "python",
   "nbconvert_exporter": "python",
   "pygments_lexer": "ipython3",
   "version": "3.12.1"
  }
 },
 "nbformat": 4,
 "nbformat_minor": 2
}
